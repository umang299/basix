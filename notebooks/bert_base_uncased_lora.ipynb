{
 "cells": [
  {
   "cell_type": "code",
   "execution_count": 1,
   "metadata": {},
   "outputs": [],
   "source": [
    "import os\n",
    "import torch\n",
    "from transformers import BertTokenizer, BertModel"
   ]
  },
  {
   "cell_type": "code",
   "execution_count": 2,
   "metadata": {},
   "outputs": [],
   "source": [
    "tokenizer_config = {\n",
    "    'pretrained_model_name_or_path' : r'C:\\experiments\\bert_tokenizer',\n",
    "}"
   ]
  },
  {
   "cell_type": "code",
   "execution_count": 3,
   "metadata": {},
   "outputs": [],
   "source": [
    "import random\n",
    "from torch.utils.data import Dataset, DataLoader\n",
    "\n",
    "random.seed(42)\n",
    "\n",
    "class ReviewDataset(Dataset):\n",
    "    def __init__(self, dir_path, split, tokenizer_config, val=False):\n",
    "        super().__init__()\n",
    "        self.review_tags = ['pos', 'neg']\n",
    "        self.pos_review_dir = os.path.join(dir_path, split, 'pos')\n",
    "        self.neg_review_dir = os.path.join(dir_path, split, 'neg')\n",
    "        \n",
    "        if split == 'train':\n",
    "            if not val:\n",
    "                self.pos_label = [self.review_tags[0] for i in os.listdir(self.pos_review_dir)][:200]\n",
    "                self.neg_label = [self.review_tags[1] for i in os.listdir(self.neg_review_dir)][:200]\n",
    "\n",
    "                self.reviews = [i for i in os.listdir(self.pos_review_dir)][:200] + [i for i in os.listdir(self.neg_review_dir)][:200]\n",
    "            else:\n",
    "                self.pos_label = [self.review_tags[0] for i in os.listdir(self.pos_review_dir)][200:250]\n",
    "                self.neg_label = [self.review_tags[1] for i in os.listdir(self.neg_review_dir)][200:250]\n",
    "\n",
    "                self.reviews = [i for i in os.listdir(self.pos_review_dir)][200:250] + [i for i in os.listdir(self.neg_review_dir)][200:250]\n",
    "        else:\n",
    "            self.pos_label = [self.review_tags[0] for i in os.listdir(self.pos_review_dir)][:50]\n",
    "            self.neg_label = [self.review_tags[1] for i in os.listdir(self.neg_review_dir)][:50]\n",
    "\n",
    "            self.reviews = [i for i in os.listdir(self.pos_review_dir)][:50] + [i for i in os.listdir(self.neg_review_dir)][:50] \n",
    "            \n",
    "        self.label = self.pos_label + self.neg_label\n",
    "        self.data = [{self.reviews[i] : self.label[i]} for i in range(0, len(self.label))]\n",
    "        self.tokenizer = BertTokenizer.from_pretrained(**tokenizer_config)\n",
    "        self.sep_token = self.tokenizer.sep_token\n",
    "        random.shuffle(self.data)\n",
    "\n",
    "    def __len__(self):\n",
    "        return len(self.data)\n",
    "    \n",
    "    def __getitem__(self, index):\n",
    "        sample = self.data[index]\n",
    "        filename, label = list(sample.items())[0]\n",
    "        if label == 'pos':\n",
    "            file_path = os.path.join(self.pos_review_dir, filename)\n",
    "        else:\n",
    "            file_path = os.path.join(self.neg_review_dir, filename)\n",
    "        \n",
    "        with open(file_path, 'r', encoding='utf-8') as f:\n",
    "            text = f.read()\n",
    "\n",
    "\n",
    "        sentences = text.split('.')\n",
    "        sentences = [i.strip().lower() for i in sentences]\n",
    "        sentences = [i.replace('<br />', '') for i in sentences]\n",
    "        sentences = [f'{i} {self.sep_token}' for i in sentences if len(i) != 0]\n",
    "        text = \"\".join(sentences) + self.sep_token\n",
    "\n",
    "        tokens = self.tokenizer(text,\n",
    "                                max_length=128,\n",
    "                                truncation=True,\n",
    "                                padding='max_length',\n",
    "                                return_tensors='pt').to(device='cuda')\n",
    "        if label == 'pos':\n",
    "            return tokens, torch.tensor([1, 0], dtype=torch.float32)\n",
    "        else:\n",
    "            return tokens, torch.tensor([0, 1], dtype=torch.float32)"
   ]
  },
  {
   "cell_type": "code",
   "execution_count": 4,
   "metadata": {},
   "outputs": [],
   "source": [
    "class BertClassifier(torch.nn.Module):\n",
    "    def __init__(self, num_classes, model_config):\n",
    "        super().__init__()\n",
    "        self.num_classes = num_classes\n",
    "        self.model = BertModel.from_pretrained(**model_config)\n",
    "        self.classifier = torch.nn.Linear(in_features=768, out_features=num_classes, bias=True)\n",
    "        self.dropout = torch.nn.Dropout(p=0.7, inplace=True)\n",
    "        self.softmax = torch.nn.Softmax(dim=1)\n",
    "    \n",
    "    def forward(self, x):\n",
    "        op1 = self.model(**x)\n",
    "        op2 = self.classifier(op1.pooler_output)\n",
    "        op3 = self.dropout(op2)\n",
    "        op4 = self.softmax(op3)\n",
    "        return op4"
   ]
  },
  {
   "cell_type": "code",
   "execution_count": 5,
   "metadata": {},
   "outputs": [
    {
     "data": {
      "text/plain": [
       "<All keys matched successfully>"
      ]
     },
     "execution_count": 5,
     "metadata": {},
     "output_type": "execute_result"
    }
   ],
   "source": [
    "model_config = {'pretrained_model_name_or_path' : r'C:\\experiments\\bert_base_uncased'}\n",
    "model = BertClassifier(num_classes=2, model_config=model_config).to(device='cuda')\n",
    "state_dict = torch.load(r'bert_uncased.pth', weights_only=True)\n",
    "model.load_state_dict(state_dict)"
   ]
  },
  {
   "cell_type": "code",
   "execution_count": 6,
   "metadata": {},
   "outputs": [],
   "source": [
    "import torch.nn.functional as F\n",
    "\n",
    "class LoRALayer(torch.nn.Module):\n",
    "    def __init__(self, in_dim, out_dim, rank, alpha):\n",
    "        super().__init__()\n",
    "        std_dev=1/torch.sqrt(torch.tensor(rank).float())\n",
    "        self.A=torch.nn.Parameter(torch.randn(in_dim, rank)*std_dev)\n",
    "        self.B=torch.nn.Parameter(torch.zeros(rank, out_dim))\n",
    "        self.alpha=alpha\n",
    "        \n",
    "    def forward(self, x):\n",
    "        x=self.alpha*(x@self.A@self.B)\n",
    "        return x\n",
    "    \n",
    "\n",
    "class LinearWithLoRAMerged(torch.nn.Module):\n",
    "    def __init__(self, linear, rank, alpha):\n",
    "        super().__init__()\n",
    "        self.linear=linear\n",
    "        self.lora=LoRALayer(\n",
    "            linear.in_features, linear.out_features, rank, alpha\n",
    "        )\n",
    "    \n",
    "    def forward(self, x):\n",
    "        lora=self.lora.A @ self.lora.B # combine LoRA metrices\n",
    "        # then combine LoRA original weights\n",
    "        combined_weight=self.linear.weight+self.lora.alpha*lora.T\n",
    "        return F.linear(x, combined_weight, self.linear.bias)"
   ]
  },
  {
   "cell_type": "code",
   "execution_count": 7,
   "metadata": {},
   "outputs": [],
   "source": [
    "for i in range(0, 11):\n",
    "    model.model.encoder.layer[i].attention.self.query = LinearWithLoRAMerged(\n",
    "        linear=model.model.encoder.layer[i].attention.self.query,\n",
    "        rank=3,\n",
    "        alpha=0.6\n",
    "    )\n",
    "    model.model.encoder.layer[i].attention.self.key = LinearWithLoRAMerged(\n",
    "        linear=model.model.encoder.layer[i].attention.self.key,\n",
    "        rank=3,\n",
    "        alpha=0.6\n",
    "    )\n",
    "    model.model.encoder.layer[i].attention.self.value = LinearWithLoRAMerged(\n",
    "        linear=model.model.encoder.layer[i].attention.self.value,\n",
    "        rank=3,\n",
    "        alpha=0.6\n",
    "    )\n",
    "\n",
    "model = model.to(device='cuda')"
   ]
  },
  {
   "cell_type": "code",
   "execution_count": 8,
   "metadata": {},
   "outputs": [
    {
     "name": "stdout",
     "output_type": "stream",
     "text": [
      "model.embeddings.word_embeddings.weight:False\n",
      "model.embeddings.position_embeddings.weight:False\n",
      "model.embeddings.token_type_embeddings.weight:False\n",
      "model.embeddings.LayerNorm.weight:False\n",
      "model.embeddings.LayerNorm.bias:False\n",
      "model.encoder.layer.0.attention.self.query.linear.weight:False\n",
      "model.encoder.layer.0.attention.self.query.linear.bias:False\n",
      "model.encoder.layer.0.attention.self.query.lora.A:True\n",
      "model.encoder.layer.0.attention.self.query.lora.B:True\n",
      "model.encoder.layer.0.attention.self.key.linear.weight:False\n",
      "model.encoder.layer.0.attention.self.key.linear.bias:False\n",
      "model.encoder.layer.0.attention.self.key.lora.A:True\n",
      "model.encoder.layer.0.attention.self.key.lora.B:True\n",
      "model.encoder.layer.0.attention.self.value.linear.weight:False\n",
      "model.encoder.layer.0.attention.self.value.linear.bias:False\n",
      "model.encoder.layer.0.attention.self.value.lora.A:True\n",
      "model.encoder.layer.0.attention.self.value.lora.B:True\n",
      "model.encoder.layer.0.attention.output.dense.weight:False\n",
      "model.encoder.layer.0.attention.output.dense.bias:False\n",
      "model.encoder.layer.0.attention.output.LayerNorm.weight:False\n",
      "model.encoder.layer.0.attention.output.LayerNorm.bias:False\n",
      "model.encoder.layer.0.intermediate.dense.weight:False\n",
      "model.encoder.layer.0.intermediate.dense.bias:False\n",
      "model.encoder.layer.0.output.dense.weight:False\n",
      "model.encoder.layer.0.output.dense.bias:False\n",
      "model.encoder.layer.0.output.LayerNorm.weight:False\n",
      "model.encoder.layer.0.output.LayerNorm.bias:False\n",
      "model.encoder.layer.1.attention.self.query.linear.weight:False\n",
      "model.encoder.layer.1.attention.self.query.linear.bias:False\n",
      "model.encoder.layer.1.attention.self.query.lora.A:True\n",
      "model.encoder.layer.1.attention.self.query.lora.B:True\n",
      "model.encoder.layer.1.attention.self.key.linear.weight:False\n",
      "model.encoder.layer.1.attention.self.key.linear.bias:False\n",
      "model.encoder.layer.1.attention.self.key.lora.A:True\n",
      "model.encoder.layer.1.attention.self.key.lora.B:True\n",
      "model.encoder.layer.1.attention.self.value.linear.weight:False\n",
      "model.encoder.layer.1.attention.self.value.linear.bias:False\n",
      "model.encoder.layer.1.attention.self.value.lora.A:True\n",
      "model.encoder.layer.1.attention.self.value.lora.B:True\n",
      "model.encoder.layer.1.attention.output.dense.weight:False\n",
      "model.encoder.layer.1.attention.output.dense.bias:False\n",
      "model.encoder.layer.1.attention.output.LayerNorm.weight:False\n",
      "model.encoder.layer.1.attention.output.LayerNorm.bias:False\n",
      "model.encoder.layer.1.intermediate.dense.weight:False\n",
      "model.encoder.layer.1.intermediate.dense.bias:False\n",
      "model.encoder.layer.1.output.dense.weight:False\n",
      "model.encoder.layer.1.output.dense.bias:False\n",
      "model.encoder.layer.1.output.LayerNorm.weight:False\n",
      "model.encoder.layer.1.output.LayerNorm.bias:False\n",
      "model.encoder.layer.2.attention.self.query.linear.weight:False\n",
      "model.encoder.layer.2.attention.self.query.linear.bias:False\n",
      "model.encoder.layer.2.attention.self.query.lora.A:True\n",
      "model.encoder.layer.2.attention.self.query.lora.B:True\n",
      "model.encoder.layer.2.attention.self.key.linear.weight:False\n",
      "model.encoder.layer.2.attention.self.key.linear.bias:False\n",
      "model.encoder.layer.2.attention.self.key.lora.A:True\n",
      "model.encoder.layer.2.attention.self.key.lora.B:True\n",
      "model.encoder.layer.2.attention.self.value.linear.weight:False\n",
      "model.encoder.layer.2.attention.self.value.linear.bias:False\n",
      "model.encoder.layer.2.attention.self.value.lora.A:True\n",
      "model.encoder.layer.2.attention.self.value.lora.B:True\n",
      "model.encoder.layer.2.attention.output.dense.weight:False\n",
      "model.encoder.layer.2.attention.output.dense.bias:False\n",
      "model.encoder.layer.2.attention.output.LayerNorm.weight:False\n",
      "model.encoder.layer.2.attention.output.LayerNorm.bias:False\n",
      "model.encoder.layer.2.intermediate.dense.weight:False\n",
      "model.encoder.layer.2.intermediate.dense.bias:False\n",
      "model.encoder.layer.2.output.dense.weight:False\n",
      "model.encoder.layer.2.output.dense.bias:False\n",
      "model.encoder.layer.2.output.LayerNorm.weight:False\n",
      "model.encoder.layer.2.output.LayerNorm.bias:False\n",
      "model.encoder.layer.3.attention.self.query.linear.weight:False\n",
      "model.encoder.layer.3.attention.self.query.linear.bias:False\n",
      "model.encoder.layer.3.attention.self.query.lora.A:True\n",
      "model.encoder.layer.3.attention.self.query.lora.B:True\n",
      "model.encoder.layer.3.attention.self.key.linear.weight:False\n",
      "model.encoder.layer.3.attention.self.key.linear.bias:False\n",
      "model.encoder.layer.3.attention.self.key.lora.A:True\n",
      "model.encoder.layer.3.attention.self.key.lora.B:True\n",
      "model.encoder.layer.3.attention.self.value.linear.weight:False\n",
      "model.encoder.layer.3.attention.self.value.linear.bias:False\n",
      "model.encoder.layer.3.attention.self.value.lora.A:True\n",
      "model.encoder.layer.3.attention.self.value.lora.B:True\n",
      "model.encoder.layer.3.attention.output.dense.weight:False\n",
      "model.encoder.layer.3.attention.output.dense.bias:False\n",
      "model.encoder.layer.3.attention.output.LayerNorm.weight:False\n",
      "model.encoder.layer.3.attention.output.LayerNorm.bias:False\n",
      "model.encoder.layer.3.intermediate.dense.weight:False\n",
      "model.encoder.layer.3.intermediate.dense.bias:False\n",
      "model.encoder.layer.3.output.dense.weight:False\n",
      "model.encoder.layer.3.output.dense.bias:False\n",
      "model.encoder.layer.3.output.LayerNorm.weight:False\n",
      "model.encoder.layer.3.output.LayerNorm.bias:False\n",
      "model.encoder.layer.4.attention.self.query.linear.weight:False\n",
      "model.encoder.layer.4.attention.self.query.linear.bias:False\n",
      "model.encoder.layer.4.attention.self.query.lora.A:True\n",
      "model.encoder.layer.4.attention.self.query.lora.B:True\n",
      "model.encoder.layer.4.attention.self.key.linear.weight:False\n",
      "model.encoder.layer.4.attention.self.key.linear.bias:False\n",
      "model.encoder.layer.4.attention.self.key.lora.A:True\n",
      "model.encoder.layer.4.attention.self.key.lora.B:True\n",
      "model.encoder.layer.4.attention.self.value.linear.weight:False\n",
      "model.encoder.layer.4.attention.self.value.linear.bias:False\n",
      "model.encoder.layer.4.attention.self.value.lora.A:True\n",
      "model.encoder.layer.4.attention.self.value.lora.B:True\n",
      "model.encoder.layer.4.attention.output.dense.weight:False\n",
      "model.encoder.layer.4.attention.output.dense.bias:False\n",
      "model.encoder.layer.4.attention.output.LayerNorm.weight:False\n",
      "model.encoder.layer.4.attention.output.LayerNorm.bias:False\n",
      "model.encoder.layer.4.intermediate.dense.weight:False\n",
      "model.encoder.layer.4.intermediate.dense.bias:False\n",
      "model.encoder.layer.4.output.dense.weight:False\n",
      "model.encoder.layer.4.output.dense.bias:False\n",
      "model.encoder.layer.4.output.LayerNorm.weight:False\n",
      "model.encoder.layer.4.output.LayerNorm.bias:False\n",
      "model.encoder.layer.5.attention.self.query.linear.weight:False\n",
      "model.encoder.layer.5.attention.self.query.linear.bias:False\n",
      "model.encoder.layer.5.attention.self.query.lora.A:True\n",
      "model.encoder.layer.5.attention.self.query.lora.B:True\n",
      "model.encoder.layer.5.attention.self.key.linear.weight:False\n",
      "model.encoder.layer.5.attention.self.key.linear.bias:False\n",
      "model.encoder.layer.5.attention.self.key.lora.A:True\n",
      "model.encoder.layer.5.attention.self.key.lora.B:True\n",
      "model.encoder.layer.5.attention.self.value.linear.weight:False\n",
      "model.encoder.layer.5.attention.self.value.linear.bias:False\n",
      "model.encoder.layer.5.attention.self.value.lora.A:True\n",
      "model.encoder.layer.5.attention.self.value.lora.B:True\n",
      "model.encoder.layer.5.attention.output.dense.weight:False\n",
      "model.encoder.layer.5.attention.output.dense.bias:False\n",
      "model.encoder.layer.5.attention.output.LayerNorm.weight:False\n",
      "model.encoder.layer.5.attention.output.LayerNorm.bias:False\n",
      "model.encoder.layer.5.intermediate.dense.weight:False\n",
      "model.encoder.layer.5.intermediate.dense.bias:False\n",
      "model.encoder.layer.5.output.dense.weight:False\n",
      "model.encoder.layer.5.output.dense.bias:False\n",
      "model.encoder.layer.5.output.LayerNorm.weight:False\n",
      "model.encoder.layer.5.output.LayerNorm.bias:False\n",
      "model.encoder.layer.6.attention.self.query.linear.weight:False\n",
      "model.encoder.layer.6.attention.self.query.linear.bias:False\n",
      "model.encoder.layer.6.attention.self.query.lora.A:True\n",
      "model.encoder.layer.6.attention.self.query.lora.B:True\n",
      "model.encoder.layer.6.attention.self.key.linear.weight:False\n",
      "model.encoder.layer.6.attention.self.key.linear.bias:False\n",
      "model.encoder.layer.6.attention.self.key.lora.A:True\n",
      "model.encoder.layer.6.attention.self.key.lora.B:True\n",
      "model.encoder.layer.6.attention.self.value.linear.weight:False\n",
      "model.encoder.layer.6.attention.self.value.linear.bias:False\n",
      "model.encoder.layer.6.attention.self.value.lora.A:True\n",
      "model.encoder.layer.6.attention.self.value.lora.B:True\n",
      "model.encoder.layer.6.attention.output.dense.weight:False\n",
      "model.encoder.layer.6.attention.output.dense.bias:False\n",
      "model.encoder.layer.6.attention.output.LayerNorm.weight:False\n",
      "model.encoder.layer.6.attention.output.LayerNorm.bias:False\n",
      "model.encoder.layer.6.intermediate.dense.weight:False\n",
      "model.encoder.layer.6.intermediate.dense.bias:False\n",
      "model.encoder.layer.6.output.dense.weight:False\n",
      "model.encoder.layer.6.output.dense.bias:False\n",
      "model.encoder.layer.6.output.LayerNorm.weight:False\n",
      "model.encoder.layer.6.output.LayerNorm.bias:False\n",
      "model.encoder.layer.7.attention.self.query.linear.weight:False\n",
      "model.encoder.layer.7.attention.self.query.linear.bias:False\n",
      "model.encoder.layer.7.attention.self.query.lora.A:True\n",
      "model.encoder.layer.7.attention.self.query.lora.B:True\n",
      "model.encoder.layer.7.attention.self.key.linear.weight:False\n",
      "model.encoder.layer.7.attention.self.key.linear.bias:False\n",
      "model.encoder.layer.7.attention.self.key.lora.A:True\n",
      "model.encoder.layer.7.attention.self.key.lora.B:True\n",
      "model.encoder.layer.7.attention.self.value.linear.weight:False\n",
      "model.encoder.layer.7.attention.self.value.linear.bias:False\n",
      "model.encoder.layer.7.attention.self.value.lora.A:True\n",
      "model.encoder.layer.7.attention.self.value.lora.B:True\n",
      "model.encoder.layer.7.attention.output.dense.weight:False\n",
      "model.encoder.layer.7.attention.output.dense.bias:False\n",
      "model.encoder.layer.7.attention.output.LayerNorm.weight:False\n",
      "model.encoder.layer.7.attention.output.LayerNorm.bias:False\n",
      "model.encoder.layer.7.intermediate.dense.weight:False\n",
      "model.encoder.layer.7.intermediate.dense.bias:False\n",
      "model.encoder.layer.7.output.dense.weight:False\n",
      "model.encoder.layer.7.output.dense.bias:False\n",
      "model.encoder.layer.7.output.LayerNorm.weight:False\n",
      "model.encoder.layer.7.output.LayerNorm.bias:False\n",
      "model.encoder.layer.8.attention.self.query.linear.weight:False\n",
      "model.encoder.layer.8.attention.self.query.linear.bias:False\n",
      "model.encoder.layer.8.attention.self.query.lora.A:True\n",
      "model.encoder.layer.8.attention.self.query.lora.B:True\n",
      "model.encoder.layer.8.attention.self.key.linear.weight:False\n",
      "model.encoder.layer.8.attention.self.key.linear.bias:False\n",
      "model.encoder.layer.8.attention.self.key.lora.A:True\n",
      "model.encoder.layer.8.attention.self.key.lora.B:True\n",
      "model.encoder.layer.8.attention.self.value.linear.weight:False\n",
      "model.encoder.layer.8.attention.self.value.linear.bias:False\n",
      "model.encoder.layer.8.attention.self.value.lora.A:True\n",
      "model.encoder.layer.8.attention.self.value.lora.B:True\n",
      "model.encoder.layer.8.attention.output.dense.weight:False\n",
      "model.encoder.layer.8.attention.output.dense.bias:False\n",
      "model.encoder.layer.8.attention.output.LayerNorm.weight:False\n",
      "model.encoder.layer.8.attention.output.LayerNorm.bias:False\n",
      "model.encoder.layer.8.intermediate.dense.weight:False\n",
      "model.encoder.layer.8.intermediate.dense.bias:False\n",
      "model.encoder.layer.8.output.dense.weight:False\n",
      "model.encoder.layer.8.output.dense.bias:False\n",
      "model.encoder.layer.8.output.LayerNorm.weight:False\n",
      "model.encoder.layer.8.output.LayerNorm.bias:False\n",
      "model.encoder.layer.9.attention.self.query.linear.weight:False\n",
      "model.encoder.layer.9.attention.self.query.linear.bias:False\n",
      "model.encoder.layer.9.attention.self.query.lora.A:True\n",
      "model.encoder.layer.9.attention.self.query.lora.B:True\n",
      "model.encoder.layer.9.attention.self.key.linear.weight:False\n",
      "model.encoder.layer.9.attention.self.key.linear.bias:False\n",
      "model.encoder.layer.9.attention.self.key.lora.A:True\n",
      "model.encoder.layer.9.attention.self.key.lora.B:True\n",
      "model.encoder.layer.9.attention.self.value.linear.weight:False\n",
      "model.encoder.layer.9.attention.self.value.linear.bias:False\n",
      "model.encoder.layer.9.attention.self.value.lora.A:True\n",
      "model.encoder.layer.9.attention.self.value.lora.B:True\n",
      "model.encoder.layer.9.attention.output.dense.weight:False\n",
      "model.encoder.layer.9.attention.output.dense.bias:False\n",
      "model.encoder.layer.9.attention.output.LayerNorm.weight:False\n",
      "model.encoder.layer.9.attention.output.LayerNorm.bias:False\n",
      "model.encoder.layer.9.intermediate.dense.weight:False\n",
      "model.encoder.layer.9.intermediate.dense.bias:False\n",
      "model.encoder.layer.9.output.dense.weight:False\n",
      "model.encoder.layer.9.output.dense.bias:False\n",
      "model.encoder.layer.9.output.LayerNorm.weight:False\n",
      "model.encoder.layer.9.output.LayerNorm.bias:False\n",
      "model.encoder.layer.10.attention.self.query.linear.weight:False\n",
      "model.encoder.layer.10.attention.self.query.linear.bias:False\n",
      "model.encoder.layer.10.attention.self.query.lora.A:True\n",
      "model.encoder.layer.10.attention.self.query.lora.B:True\n",
      "model.encoder.layer.10.attention.self.key.linear.weight:False\n",
      "model.encoder.layer.10.attention.self.key.linear.bias:False\n",
      "model.encoder.layer.10.attention.self.key.lora.A:True\n",
      "model.encoder.layer.10.attention.self.key.lora.B:True\n",
      "model.encoder.layer.10.attention.self.value.linear.weight:False\n",
      "model.encoder.layer.10.attention.self.value.linear.bias:False\n",
      "model.encoder.layer.10.attention.self.value.lora.A:True\n",
      "model.encoder.layer.10.attention.self.value.lora.B:True\n",
      "model.encoder.layer.10.attention.output.dense.weight:False\n",
      "model.encoder.layer.10.attention.output.dense.bias:False\n",
      "model.encoder.layer.10.attention.output.LayerNorm.weight:False\n",
      "model.encoder.layer.10.attention.output.LayerNorm.bias:False\n",
      "model.encoder.layer.10.intermediate.dense.weight:False\n",
      "model.encoder.layer.10.intermediate.dense.bias:False\n",
      "model.encoder.layer.10.output.dense.weight:False\n",
      "model.encoder.layer.10.output.dense.bias:False\n",
      "model.encoder.layer.10.output.LayerNorm.weight:False\n",
      "model.encoder.layer.10.output.LayerNorm.bias:False\n",
      "model.encoder.layer.11.attention.self.query.weight:False\n",
      "model.encoder.layer.11.attention.self.query.bias:False\n",
      "model.encoder.layer.11.attention.self.key.weight:False\n",
      "model.encoder.layer.11.attention.self.key.bias:False\n",
      "model.encoder.layer.11.attention.self.value.weight:False\n",
      "model.encoder.layer.11.attention.self.value.bias:False\n",
      "model.encoder.layer.11.attention.output.dense.weight:False\n",
      "model.encoder.layer.11.attention.output.dense.bias:False\n",
      "model.encoder.layer.11.attention.output.LayerNorm.weight:False\n",
      "model.encoder.layer.11.attention.output.LayerNorm.bias:False\n",
      "model.encoder.layer.11.intermediate.dense.weight:False\n",
      "model.encoder.layer.11.intermediate.dense.bias:False\n",
      "model.encoder.layer.11.output.dense.weight:False\n",
      "model.encoder.layer.11.output.dense.bias:False\n",
      "model.encoder.layer.11.output.LayerNorm.weight:False\n",
      "model.encoder.layer.11.output.LayerNorm.bias:False\n",
      "model.pooler.dense.weight:False\n",
      "model.pooler.dense.bias:False\n",
      "classifier.weight:False\n",
      "classifier.bias:False\n"
     ]
    }
   ],
   "source": [
    "## Freezing all attention layers in the bert encoder\n",
    "for name, params in model.named_parameters():\n",
    "    if ('lora' not in name):\n",
    "        params.requires_grad = False\n",
    "\n",
    "\n",
    "for name, param in model.named_parameters():\n",
    "    print(f'{name}:{param.requires_grad}')"
   ]
  },
  {
   "cell_type": "code",
   "execution_count": 9,
   "metadata": {},
   "outputs": [
    {
     "name": "stdout",
     "output_type": "stream",
     "text": [
      "Number of reviews in training : 400\n",
      "Number of reviews in validaton: 100\n",
      "Number of reviews in test : 100\n"
     ]
    }
   ],
   "source": [
    "train_dataset = ReviewDataset(\n",
    "                    dir_path=r'C:\\experiments\\notebooks\\data\\reviews\\aclImdb',\n",
    "                    split='train',\n",
    "                    tokenizer_config=tokenizer_config\n",
    ")\n",
    "\n",
    "val_dataset = ReviewDataset(\n",
    "                    dir_path=r'C:\\experiments\\notebooks\\data\\reviews\\aclImdb',\n",
    "                    split='train',\n",
    "                    tokenizer_config=tokenizer_config,\n",
    "                    val=True\n",
    ")\n",
    "\n",
    "\n",
    "test_dataset = ReviewDataset(\n",
    "                    dir_path=r'C:\\experiments\\notebooks\\data\\reviews\\aclImdb',\n",
    "                    split='test',\n",
    "                    tokenizer_config=tokenizer_config\n",
    ")\n",
    "\n",
    "print(f'Number of reviews in training : {train_dataset.__len__()}')\n",
    "print(f'Number of reviews in validaton: {val_dataset.__len__()}')\n",
    "print(f'Number of reviews in test : {test_dataset.__len__()}')\n"
   ]
  },
  {
   "cell_type": "code",
   "execution_count": 10,
   "metadata": {},
   "outputs": [],
   "source": [
    "train_loader = DataLoader(\n",
    "                    dataset=train_dataset,\n",
    "                    batch_size=16,\n",
    "                    shuffle=True)\n",
    "\n",
    "val_loader = DataLoader(\n",
    "                    dataset=val_dataset,\n",
    "                    batch_size=16,\n",
    "                    shuffle=True)\n",
    "\n",
    "test_loader = DataLoader(\n",
    "                    dataset=test_dataset,\n",
    "                    batch_size=16,\n",
    "                    shuffle=True)"
   ]
  },
  {
   "cell_type": "code",
   "execution_count": 11,
   "metadata": {},
   "outputs": [],
   "source": [
    "optimizer = torch.optim.Adam(params=model.parameters(), lr=3e-5)\n",
    "criterion = torch.nn.BCEWithLogitsLoss()"
   ]
  },
  {
   "cell_type": "code",
   "execution_count": 12,
   "metadata": {},
   "outputs": [],
   "source": [
    "EPOCHS = 20"
   ]
  },
  {
   "cell_type": "code",
   "execution_count": 13,
   "metadata": {},
   "outputs": [
    {
     "name": "stderr",
     "output_type": "stream",
     "text": [
      "Training Epoch 1/20: 100%|██████████| 25/25 [00:07<00:00,  3.56it/s]\n",
      "Validation: 100%|██████████| 7/7 [00:01<00:00,  6.78it/s]\n"
     ]
    },
    {
     "name": "stdout",
     "output_type": "stream",
     "text": [
      "EPOCH: 1\n",
      "Train Loss: 0.6316, Train Acc: 0.7300\n",
      "Val Loss: 0.6300, Val Acc: 0.7679\n"
     ]
    },
    {
     "name": "stderr",
     "output_type": "stream",
     "text": [
      "Training Epoch 2/20: 100%|██████████| 25/25 [00:06<00:00,  3.88it/s]\n",
      "Validation: 100%|██████████| 7/7 [00:01<00:00,  6.64it/s]\n"
     ]
    },
    {
     "name": "stdout",
     "output_type": "stream",
     "text": [
      "EPOCH: 2\n",
      "Train Loss: 0.6346, Train Acc: 0.7350\n",
      "Val Loss: 0.6092, Val Acc: 0.7946\n"
     ]
    },
    {
     "name": "stderr",
     "output_type": "stream",
     "text": [
      "Training Epoch 3/20: 100%|██████████| 25/25 [00:06<00:00,  3.87it/s]\n",
      "Validation: 100%|██████████| 7/7 [00:01<00:00,  6.77it/s]\n"
     ]
    },
    {
     "name": "stdout",
     "output_type": "stream",
     "text": [
      "EPOCH: 3\n",
      "Train Loss: 0.6271, Train Acc: 0.7450\n",
      "Val Loss: 0.5991, Val Acc: 0.8393\n"
     ]
    },
    {
     "name": "stderr",
     "output_type": "stream",
     "text": [
      "Training Epoch 4/20: 100%|██████████| 25/25 [00:06<00:00,  3.86it/s]\n",
      "Validation: 100%|██████████| 7/7 [00:01<00:00,  6.77it/s]\n"
     ]
    },
    {
     "name": "stdout",
     "output_type": "stream",
     "text": [
      "EPOCH: 4\n",
      "Train Loss: 0.6285, Train Acc: 0.7350\n",
      "Val Loss: 0.6004, Val Acc: 0.8304\n",
      "Early stopping patience: 1/5\n"
     ]
    },
    {
     "name": "stderr",
     "output_type": "stream",
     "text": [
      "Training Epoch 5/20: 100%|██████████| 25/25 [00:06<00:00,  3.87it/s]\n",
      "Validation: 100%|██████████| 7/7 [00:01<00:00,  6.76it/s]\n"
     ]
    },
    {
     "name": "stdout",
     "output_type": "stream",
     "text": [
      "EPOCH: 5\n",
      "Train Loss: 0.6248, Train Acc: 0.7350\n",
      "Val Loss: 0.6035, Val Acc: 0.8304\n",
      "Early stopping patience: 2/5\n"
     ]
    },
    {
     "name": "stderr",
     "output_type": "stream",
     "text": [
      "Training Epoch 6/20: 100%|██████████| 25/25 [00:06<00:00,  3.88it/s]\n",
      "Validation: 100%|██████████| 7/7 [00:01<00:00,  6.78it/s]\n"
     ]
    },
    {
     "name": "stdout",
     "output_type": "stream",
     "text": [
      "EPOCH: 6\n",
      "Train Loss: 0.6249, Train Acc: 0.7475\n",
      "Val Loss: 0.6120, Val Acc: 0.8036\n",
      "Early stopping patience: 3/5\n"
     ]
    },
    {
     "name": "stderr",
     "output_type": "stream",
     "text": [
      "Training Epoch 7/20: 100%|██████████| 25/25 [00:06<00:00,  3.85it/s]\n",
      "Validation: 100%|██████████| 7/7 [00:01<00:00,  6.77it/s]\n"
     ]
    },
    {
     "name": "stdout",
     "output_type": "stream",
     "text": [
      "EPOCH: 7\n",
      "Train Loss: 0.6285, Train Acc: 0.7225\n",
      "Val Loss: 0.6004, Val Acc: 0.8304\n",
      "Early stopping patience: 4/5\n"
     ]
    },
    {
     "name": "stderr",
     "output_type": "stream",
     "text": [
      "Training Epoch 8/20: 100%|██████████| 25/25 [00:06<00:00,  3.86it/s]\n",
      "Validation: 100%|██████████| 7/7 [00:01<00:00,  6.65it/s]"
     ]
    },
    {
     "name": "stdout",
     "output_type": "stream",
     "text": [
      "EPOCH: 8\n",
      "Train Loss: 0.6330, Train Acc: 0.7100\n",
      "Val Loss: 0.6106, Val Acc: 0.8125\n",
      "Early stopping patience: 5/5\n",
      "Early stopping triggered.\n"
     ]
    },
    {
     "name": "stderr",
     "output_type": "stream",
     "text": [
      "\n"
     ]
    }
   ],
   "source": [
    "from tqdm import tqdm\n",
    "import numpy as np\n",
    "from sklearn.metrics import accuracy_score\n",
    "import copy  # For deep copying the best model\n",
    "\n",
    "TRAIN_LOSS, VAL_LOSS = list(), list()\n",
    "TRAIN_ACC, VAL_ACC = list(), list()\n",
    "\n",
    "best_val_acc = 0\n",
    "patience, count = 5, 0  # Patience defines how many epochs to wait before stopping\n",
    "best_model = None  # To store the best model\n",
    "\n",
    "for epoch in range(EPOCHS):\n",
    "    train_loss, train_acc = 0, 0\n",
    "    model.train()\n",
    "    \n",
    "    # Training loop\n",
    "    for tokens, label in tqdm(train_loader, desc=f\"Training Epoch {epoch + 1}/{EPOCHS}\"):\n",
    "        inputs = {\n",
    "            'input_ids': tokens['input_ids'].squeeze(1),\n",
    "            'token_type_ids': tokens['token_type_ids'].squeeze(1),\n",
    "            'attention_mask': tokens['attention_mask'].squeeze(1)\n",
    "        }\n",
    "        target = label.to(device='cuda')\n",
    "\n",
    "        optimizer.zero_grad()\n",
    "        op = model(inputs)\n",
    "        loss = criterion(op, target)\n",
    "        acc = accuracy_score(\n",
    "            torch.argmax(op, dim=1).detach().cpu().numpy(),\n",
    "            torch.argmax(target, dim=1).detach().cpu().numpy()\n",
    "        )\n",
    "        train_loss += loss.item()\n",
    "        train_acc += acc\n",
    "\n",
    "        loss.backward()\n",
    "        optimizer.step()\n",
    "\n",
    "    train_loss /= len(train_loader)\n",
    "    train_acc /= len(train_loader)\n",
    "\n",
    "    # Validation loop\n",
    "    model.eval()\n",
    "    val_loss, val_acc = 0, 0\n",
    "    with torch.no_grad():\n",
    "        for tokens, label in tqdm(val_loader, desc=\"Validation\"):\n",
    "            inputs = {\n",
    "                'input_ids': tokens['input_ids'].squeeze(1),\n",
    "                'token_type_ids': tokens['token_type_ids'].squeeze(1),\n",
    "                'attention_mask': tokens['attention_mask'].squeeze(1)\n",
    "            }\n",
    "            target = label.to(device='cuda')\n",
    "\n",
    "            op = model(inputs)\n",
    "            loss = criterion(op, target)\n",
    "            acc = accuracy_score(\n",
    "                torch.argmax(op, dim=1).detach().cpu().numpy(),\n",
    "                torch.argmax(target, dim=1).detach().cpu().numpy()\n",
    "            )\n",
    "            val_loss += loss.item()\n",
    "            val_acc += acc\n",
    "\n",
    "    val_loss /= len(val_loader)\n",
    "    val_acc /= len(val_loader)\n",
    "\n",
    "    # Logging\n",
    "    print(f'EPOCH: {epoch + 1}\\nTrain Loss: {train_loss:.4f}, Train Acc: {train_acc:.4f}')\n",
    "    print(f'Val Loss: {val_loss:.4f}, Val Acc: {val_acc:.4f}')\n",
    "    \n",
    "    TRAIN_LOSS.append(train_loss)\n",
    "    VAL_LOSS.append(val_loss)\n",
    "    TRAIN_ACC.append(train_acc)\n",
    "    VAL_ACC.append(val_acc)\n",
    "\n",
    "    # Early Stopping Check\n",
    "    if val_acc > best_val_acc:\n",
    "        best_val_acc = val_acc\n",
    "        best_model = copy.deepcopy(model)  # Save the best model\n",
    "        count = 0  # Reset patience counter\n",
    "    else:\n",
    "        count += 1\n",
    "        print(f\"Early stopping patience: {count}/{patience}\")\n",
    "        if count >= patience:\n",
    "            print(\"Early stopping triggered.\")\n",
    "            break"
   ]
  },
  {
   "cell_type": "code",
   "execution_count": 15,
   "metadata": {},
   "outputs": [
    {
     "name": "stderr",
     "output_type": "stream",
     "text": [
      "100%|██████████| 7/7 [00:01<00:00,  5.42it/s]"
     ]
    },
    {
     "name": "stdout",
     "output_type": "stream",
     "text": [
      "Test Loss: 0.6095321348735264 Test Acc: 0.7857142857142857\n"
     ]
    },
    {
     "name": "stderr",
     "output_type": "stream",
     "text": [
      "\n"
     ]
    }
   ],
   "source": [
    "test_loss, test_acc = 0, 0\n",
    "best_model.eval()\n",
    "for tokens, label in tqdm(test_loader):\n",
    "    inputs = {\n",
    "                    'input_ids': tokens['input_ids'].squeeze(1),\n",
    "                    'token_type_ids' : tokens['token_type_ids'].squeeze(1),\n",
    "                    'attention_mask' : tokens['attention_mask'].squeeze(1)\n",
    "            }\n",
    "    target = label.to(device='cuda')\n",
    "\n",
    "    with torch.no_grad():\n",
    "            op = best_model(inputs)\n",
    "            loss = criterion(op, target)\n",
    "            acc = accuracy_score(\n",
    "                    torch.argmax(op, dim=1).detach().cpu().numpy(), \n",
    "                    torch.argmax(target, dim=1).detach().cpu().numpy()\n",
    "            )\n",
    "            \n",
    "    test_loss += loss.item()\n",
    "    test_acc += acc\n",
    "\n",
    "print(f'Test Loss: {test_loss/len(test_loader)} Test Acc: {test_acc/len(test_loader)}')"
   ]
  },
  {
   "cell_type": "code",
   "execution_count": 16,
   "metadata": {},
   "outputs": [
    {
     "name": "stdout",
     "output_type": "stream",
     "text": [
      "Model state dictionary saved to 'model.pth'\n"
     ]
    }
   ],
   "source": [
    "torch.save(best_model.state_dict(), \"bert_uncased_lora.pth\")\n",
    "print(\"Model state dictionary saved to 'model.pth'\")"
   ]
  }
 ],
 "metadata": {
  "kernelspec": {
   "display_name": ".env",
   "language": "python",
   "name": "python3"
  },
  "language_info": {
   "codemirror_mode": {
    "name": "ipython",
    "version": 3
   },
   "file_extension": ".py",
   "mimetype": "text/x-python",
   "name": "python",
   "nbconvert_exporter": "python",
   "pygments_lexer": "ipython3",
   "version": "3.10.11"
  }
 },
 "nbformat": 4,
 "nbformat_minor": 2
}
