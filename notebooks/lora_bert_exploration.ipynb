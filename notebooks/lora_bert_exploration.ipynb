{
 "cells": [
  {
   "cell_type": "markdown",
   "metadata": {},
   "source": [
    "# Objective\n",
    "Undertstanding BERT model for classification. Here, i have trained the model for a classification task. I have used the IMDB reviews dataset. Since the dataset has too much data from my small GPU machine, I have restricted the number of input samples to 400 for training and 100 for validation and testing each."
   ]
  },
  {
   "cell_type": "code",
   "execution_count": null,
   "metadata": {},
   "outputs": [],
   "source": [
    "import os\n",
    "import torch\n",
    "import bitsandbytes as bnb\n",
    "from transformers import BertTokenizer, BertModel"
   ]
  },
  {
   "cell_type": "code",
   "execution_count": 2,
   "metadata": {},
   "outputs": [],
   "source": [
    "tokenizer_config = {\n",
    "    'pretrained_model_name_or_path' : r'C:\\experiments\\bert_tokenizer',\n",
    "}"
   ]
  },
  {
   "cell_type": "markdown",
   "metadata": {},
   "source": [
    "***2 Cents on BERT Tokenizer***\n",
    "- Bert has the following special tokens:\n",
    "1. `[SEP]`: Placed at the end of each sentence or sequence. Usefull in Next Sequence Prediction Tasks\n",
    "2. `[CLS]`: Placed at the beginning of the text. Lets the model know about the beginning of the sentence/sequence.\n",
    "\n",
    "**BERT DOES NOT HAVE `BOS` OR `EOS` TOKENS** "
   ]
  },
  {
   "cell_type": "code",
   "execution_count": 3,
   "metadata": {},
   "outputs": [],
   "source": [
    "import random\n",
    "from torch.utils.data import Dataset, DataLoader\n",
    "\n",
    "random.seed(42)\n",
    "\n",
    "class ReviewDataset(Dataset):\n",
    "    def __init__(self, dir_path, split, tokenizer_config, val=False):\n",
    "        super().__init__()\n",
    "        self.review_tags = ['pos', 'neg']\n",
    "        self.pos_review_dir = os.path.join(dir_path, split, 'pos')\n",
    "        self.neg_review_dir = os.path.join(dir_path, split, 'neg')\n",
    "        \n",
    "        if split == 'train':\n",
    "            if not val:\n",
    "                self.pos_label = [self.review_tags[0] for i in os.listdir(self.pos_review_dir)][:200]\n",
    "                self.neg_label = [self.review_tags[1] for i in os.listdir(self.neg_review_dir)][:200]\n",
    "\n",
    "                self.reviews = [i for i in os.listdir(self.pos_review_dir)][:200] + [i for i in os.listdir(self.neg_review_dir)][:200]\n",
    "            else:\n",
    "                self.pos_label = [self.review_tags[0] for i in os.listdir(self.pos_review_dir)][200:250]\n",
    "                self.neg_label = [self.review_tags[1] for i in os.listdir(self.neg_review_dir)][200:250]\n",
    "\n",
    "                self.reviews = [i for i in os.listdir(self.pos_review_dir)][200:250] + [i for i in os.listdir(self.neg_review_dir)][200:250]\n",
    "        else:\n",
    "            self.pos_label = [self.review_tags[0] for i in os.listdir(self.pos_review_dir)][:50]\n",
    "            self.neg_label = [self.review_tags[1] for i in os.listdir(self.neg_review_dir)][:50]\n",
    "\n",
    "            self.reviews = [i for i in os.listdir(self.pos_review_dir)][:50] + [i for i in os.listdir(self.neg_review_dir)][:50] \n",
    "            \n",
    "        self.label = self.pos_label + self.neg_label\n",
    "        self.data = [{self.reviews[i] : self.label[i]} for i in range(0, len(self.label))]\n",
    "        self.tokenizer = BertTokenizer.from_pretrained(**tokenizer_config)\n",
    "        self.sep_token = self.tokenizer.sep_token\n",
    "        random.shuffle(self.data)\n",
    "\n",
    "    def __len__(self):\n",
    "        return len(self.data)\n",
    "    \n",
    "    def __getitem__(self, index):\n",
    "        sample = self.data[index]\n",
    "        filename, label = list(sample.items())[0]\n",
    "        if label == 'pos':\n",
    "            file_path = os.path.join(self.pos_review_dir, filename)\n",
    "        else:\n",
    "            file_path = os.path.join(self.neg_review_dir, filename)\n",
    "        \n",
    "        with open(file_path, 'r', encoding='utf-8') as f:\n",
    "            text = f.read()\n",
    "\n",
    "\n",
    "        sentences = text.split('.')\n",
    "        sentences = [i.strip().lower() for i in sentences]\n",
    "        sentences = [i.replace('<br />', '') for i in sentences]\n",
    "        sentences = [f'{i} {self.sep_token}' for i in sentences if len(i) != 0]\n",
    "        text = \"\".join(sentences) + self.sep_token\n",
    "\n",
    "        tokens = self.tokenizer(text,\n",
    "                                max_length=128,\n",
    "                                truncation=True,\n",
    "                                padding='max_length',\n",
    "                                return_tensors='pt').to(device='cuda')\n",
    "        if label == 'pos':\n",
    "            return tokens, torch.tensor([1, 0], dtype=torch.float32)\n",
    "        else:\n",
    "            return tokens, torch.tensor([0, 1], dtype=torch.float32)"
   ]
  },
  {
   "cell_type": "code",
   "execution_count": 4,
   "metadata": {},
   "outputs": [],
   "source": [
    "class BertClassifier(torch.nn.Module):\n",
    "    def __init__(self, num_classes, model_config):\n",
    "        super().__init__()\n",
    "        self.num_classes = num_classes\n",
    "        self.model = BertModel.from_pretrained(**model_config)\n",
    "        self.classifier = torch.nn.Linear(in_features=768, out_features=num_classes, bias=True)\n",
    "        self.dropout = torch.nn.Dropout(p=0.7, inplace=True)\n",
    "        self.softmax = torch.nn.Softmax(dim=1)\n",
    "    \n",
    "    def forward(self, x):\n",
    "        op1 = self.model(**x)\n",
    "        op2 = self.classifier(op1.pooler_output)\n",
    "        op3 = self.dropout(op2)\n",
    "        op4 = self.softmax(op3)\n",
    "        return op4"
   ]
  },
  {
   "cell_type": "code",
   "execution_count": 5,
   "metadata": {},
   "outputs": [],
   "source": [
    "model_config = {'pretrained_model_name_or_path' : r'C:\\experiments\\bert_base_uncased'}\n",
    "model = BertClassifier(num_classes=2, model_config=model_config).to(device='cuda')"
   ]
  },
  {
   "cell_type": "code",
   "execution_count": 6,
   "metadata": {},
   "outputs": [
    {
     "name": "stdout",
     "output_type": "stream",
     "text": [
      "Number of reviews in training : 400\n",
      "Number of reviews in validaton: 100\n",
      "Number of reviews in test : 100\n"
     ]
    }
   ],
   "source": [
    "train_dataset = ReviewDataset(\n",
    "                    dir_path=r'C:\\experiments\\notebooks\\data\\reviews\\aclImdb',\n",
    "                    split='train',\n",
    "                    tokenizer_config=tokenizer_config\n",
    ")\n",
    "\n",
    "val_dataset = ReviewDataset(\n",
    "                    dir_path=r'C:\\experiments\\notebooks\\data\\reviews\\aclImdb',\n",
    "                    split='train',\n",
    "                    tokenizer_config=tokenizer_config,\n",
    "                    val=True\n",
    ")\n",
    "\n",
    "\n",
    "test_dataset = ReviewDataset(\n",
    "                    dir_path=r'C:\\experiments\\notebooks\\data\\reviews\\aclImdb',\n",
    "                    split='test',\n",
    "                    tokenizer_config=tokenizer_config\n",
    ")\n",
    "\n",
    "print(f'Number of reviews in training : {train_dataset.__len__()}')\n",
    "print(f'Number of reviews in validaton: {val_dataset.__len__()}')\n",
    "print(f'Number of reviews in test : {test_dataset.__len__()}')\n"
   ]
  },
  {
   "cell_type": "code",
   "execution_count": 7,
   "metadata": {},
   "outputs": [],
   "source": [
    "train_loader = DataLoader(\n",
    "                    dataset=train_dataset,\n",
    "                    batch_size=16,\n",
    "                    shuffle=True)\n",
    "\n",
    "val_loader = DataLoader(\n",
    "                    dataset=val_dataset,\n",
    "                    batch_size=16,\n",
    "                    shuffle=True)\n",
    "\n",
    "test_loader = DataLoader(\n",
    "                    dataset=test_dataset,\n",
    "                    batch_size=16,\n",
    "                    shuffle=True)"
   ]
  },
  {
   "cell_type": "code",
   "execution_count": 8,
   "metadata": {},
   "outputs": [],
   "source": [
    "optimizer = torch.optim.Adam(params=model.parameters(), lr=3e-5)\n",
    "criterion = torch.nn.BCEWithLogitsLoss()"
   ]
  },
  {
   "cell_type": "code",
   "execution_count": 9,
   "metadata": {},
   "outputs": [],
   "source": [
    "EPOCHS = 20"
   ]
  },
  {
   "cell_type": "code",
   "execution_count": 10,
   "metadata": {},
   "outputs": [
    {
     "name": "stderr",
     "output_type": "stream",
     "text": [
      "Training Epoch 1/20: 100%|██████████| 25/25 [01:17<00:00,  3.11s/it]\n",
      "Validation: 100%|██████████| 7/7 [00:04<00:00,  1.61it/s]\n"
     ]
    },
    {
     "name": "stdout",
     "output_type": "stream",
     "text": [
      "EPOCH: 1\n",
      "Train Loss: 0.7202, Train Acc: 0.4825\n",
      "Val Loss: 0.7218, Val Acc: 0.5268\n"
     ]
    },
    {
     "name": "stderr",
     "output_type": "stream",
     "text": [
      "Training Epoch 2/20: 100%|██████████| 25/25 [01:44<00:00,  4.18s/it]\n",
      "Validation: 100%|██████████| 7/7 [00:05<00:00,  1.34it/s]\n"
     ]
    },
    {
     "name": "stdout",
     "output_type": "stream",
     "text": [
      "EPOCH: 2\n",
      "Train Loss: 0.7227, Train Acc: 0.5125\n",
      "Val Loss: 0.7106, Val Acc: 0.5446\n"
     ]
    },
    {
     "name": "stderr",
     "output_type": "stream",
     "text": [
      "Training Epoch 3/20: 100%|██████████| 25/25 [01:34<00:00,  3.78s/it]\n",
      "Validation: 100%|██████████| 7/7 [00:03<00:00,  1.82it/s]\n"
     ]
    },
    {
     "name": "stdout",
     "output_type": "stream",
     "text": [
      "EPOCH: 3\n",
      "Train Loss: 0.7042, Train Acc: 0.5825\n",
      "Val Loss: 0.6678, Val Acc: 0.7232\n"
     ]
    },
    {
     "name": "stderr",
     "output_type": "stream",
     "text": [
      "Training Epoch 4/20: 100%|██████████| 25/25 [01:38<00:00,  3.95s/it]\n",
      "Validation: 100%|██████████| 7/7 [00:04<00:00,  1.42it/s]\n"
     ]
    },
    {
     "name": "stdout",
     "output_type": "stream",
     "text": [
      "EPOCH: 4\n",
      "Train Loss: 0.6582, Train Acc: 0.6875\n",
      "Val Loss: 0.6531, Val Acc: 0.7143\n",
      "Early stopping patience: 1/5\n"
     ]
    },
    {
     "name": "stderr",
     "output_type": "stream",
     "text": [
      "Training Epoch 5/20: 100%|██████████| 25/25 [01:38<00:00,  3.95s/it]\n",
      "Validation: 100%|██████████| 7/7 [00:04<00:00,  1.42it/s]\n"
     ]
    },
    {
     "name": "stdout",
     "output_type": "stream",
     "text": [
      "EPOCH: 5\n",
      "Train Loss: 0.6532, Train Acc: 0.6775\n",
      "Val Loss: 0.6784, Val Acc: 0.6607\n",
      "Early stopping patience: 2/5\n"
     ]
    },
    {
     "name": "stderr",
     "output_type": "stream",
     "text": [
      "Training Epoch 6/20: 100%|██████████| 25/25 [01:38<00:00,  3.95s/it]\n",
      "Validation: 100%|██████████| 7/7 [00:04<00:00,  1.43it/s]\n"
     ]
    },
    {
     "name": "stdout",
     "output_type": "stream",
     "text": [
      "EPOCH: 6\n",
      "Train Loss: 0.6420, Train Acc: 0.6975\n",
      "Val Loss: 0.6103, Val Acc: 0.8036\n"
     ]
    },
    {
     "name": "stderr",
     "output_type": "stream",
     "text": [
      "Training Epoch 7/20: 100%|██████████| 25/25 [01:37<00:00,  3.88s/it]\n",
      "Validation: 100%|██████████| 7/7 [00:03<00:00,  1.77it/s]\n"
     ]
    },
    {
     "name": "stdout",
     "output_type": "stream",
     "text": [
      "EPOCH: 7\n",
      "Train Loss: 0.6421, Train Acc: 0.6950\n",
      "Val Loss: 0.6597, Val Acc: 0.6607\n",
      "Early stopping patience: 1/5\n"
     ]
    },
    {
     "name": "stderr",
     "output_type": "stream",
     "text": [
      "Training Epoch 8/20: 100%|██████████| 25/25 [01:37<00:00,  3.88s/it]\n",
      "Validation: 100%|██████████| 7/7 [00:04<00:00,  1.75it/s]\n"
     ]
    },
    {
     "name": "stdout",
     "output_type": "stream",
     "text": [
      "EPOCH: 8\n",
      "Train Loss: 0.6274, Train Acc: 0.7125\n",
      "Val Loss: 0.6466, Val Acc: 0.7054\n",
      "Early stopping patience: 2/5\n"
     ]
    },
    {
     "name": "stderr",
     "output_type": "stream",
     "text": [
      "Training Epoch 9/20: 100%|██████████| 25/25 [01:37<00:00,  3.89s/it]\n",
      "Validation: 100%|██████████| 7/7 [00:03<00:00,  1.76it/s]\n"
     ]
    },
    {
     "name": "stdout",
     "output_type": "stream",
     "text": [
      "EPOCH: 9\n",
      "Train Loss: 0.6244, Train Acc: 0.7450\n",
      "Val Loss: 0.6343, Val Acc: 0.7232\n",
      "Early stopping patience: 3/5\n"
     ]
    },
    {
     "name": "stderr",
     "output_type": "stream",
     "text": [
      "Training Epoch 10/20: 100%|██████████| 25/25 [01:37<00:00,  3.89s/it]\n",
      "Validation: 100%|██████████| 7/7 [00:04<00:00,  1.75it/s]\n"
     ]
    },
    {
     "name": "stdout",
     "output_type": "stream",
     "text": [
      "EPOCH: 10\n",
      "Train Loss: 0.6268, Train Acc: 0.7000\n",
      "Val Loss: 0.6320, Val Acc: 0.7589\n",
      "Early stopping patience: 4/5\n"
     ]
    },
    {
     "name": "stderr",
     "output_type": "stream",
     "text": [
      "Training Epoch 11/20: 100%|██████████| 25/25 [01:37<00:00,  3.89s/it]\n",
      "Validation: 100%|██████████| 7/7 [00:03<00:00,  1.78it/s]"
     ]
    },
    {
     "name": "stdout",
     "output_type": "stream",
     "text": [
      "EPOCH: 11\n",
      "Train Loss: 0.6200, Train Acc: 0.7525\n",
      "Val Loss: 0.6332, Val Acc: 0.7411\n",
      "Early stopping patience: 5/5\n",
      "Early stopping triggered.\n"
     ]
    },
    {
     "name": "stderr",
     "output_type": "stream",
     "text": [
      "\n"
     ]
    }
   ],
   "source": [
    "from tqdm import tqdm\n",
    "import numpy as np\n",
    "from sklearn.metrics import accuracy_score\n",
    "import copy  # For deep copying the best model\n",
    "\n",
    "TRAIN_LOSS, VAL_LOSS = list(), list()\n",
    "TRAIN_ACC, VAL_ACC = list(), list()\n",
    "\n",
    "best_val_acc = 0\n",
    "patience, count = 5, 0  # Patience defines how many epochs to wait before stopping\n",
    "best_model = None  # To store the best model\n",
    "\n",
    "for epoch in range(EPOCHS):\n",
    "    train_loss, train_acc = 0, 0\n",
    "    model.train()\n",
    "    \n",
    "    # Training loop\n",
    "    for tokens, label in tqdm(train_loader, desc=f\"Training Epoch {epoch + 1}/{EPOCHS}\"):\n",
    "        inputs = {\n",
    "            'input_ids': tokens['input_ids'].squeeze(1),\n",
    "            'token_type_ids': tokens['token_type_ids'].squeeze(1),\n",
    "            'attention_mask': tokens['attention_mask'].squeeze(1)\n",
    "        }\n",
    "        target = label.to(device='cuda')\n",
    "\n",
    "        optimizer.zero_grad()\n",
    "        op = model(inputs)\n",
    "        loss = criterion(op, target)\n",
    "        acc = accuracy_score(\n",
    "            torch.argmax(op, dim=1).detach().cpu().numpy(),\n",
    "            torch.argmax(target, dim=1).detach().cpu().numpy()\n",
    "        )\n",
    "        train_loss += loss.item()\n",
    "        train_acc += acc\n",
    "\n",
    "        loss.backward()\n",
    "        optimizer.step()\n",
    "\n",
    "    train_loss /= len(train_loader)\n",
    "    train_acc /= len(train_loader)\n",
    "\n",
    "    # Validation loop\n",
    "    model.eval()\n",
    "    val_loss, val_acc = 0, 0\n",
    "    with torch.no_grad():\n",
    "        for tokens, label in tqdm(val_loader, desc=\"Validation\"):\n",
    "            inputs = {\n",
    "                'input_ids': tokens['input_ids'].squeeze(1),\n",
    "                'token_type_ids': tokens['token_type_ids'].squeeze(1),\n",
    "                'attention_mask': tokens['attention_mask'].squeeze(1)\n",
    "            }\n",
    "            target = label.to(device='cuda')\n",
    "\n",
    "            op = model(inputs)\n",
    "            loss = criterion(op, target)\n",
    "            acc = accuracy_score(\n",
    "                torch.argmax(op, dim=1).detach().cpu().numpy(),\n",
    "                torch.argmax(target, dim=1).detach().cpu().numpy()\n",
    "            )\n",
    "            val_loss += loss.item()\n",
    "            val_acc += acc\n",
    "\n",
    "    val_loss /= len(val_loader)\n",
    "    val_acc /= len(val_loader)\n",
    "\n",
    "    # Logging\n",
    "    print(f'EPOCH: {epoch + 1}\\nTrain Loss: {train_loss:.4f}, Train Acc: {train_acc:.4f}')\n",
    "    print(f'Val Loss: {val_loss:.4f}, Val Acc: {val_acc:.4f}')\n",
    "    \n",
    "    TRAIN_LOSS.append(train_loss)\n",
    "    VAL_LOSS.append(val_loss)\n",
    "    TRAIN_ACC.append(train_acc)\n",
    "    VAL_ACC.append(val_acc)\n",
    "\n",
    "    # Early Stopping Check\n",
    "    if val_acc > best_val_acc:\n",
    "        best_val_acc = val_acc\n",
    "        best_model = copy.deepcopy(model)  # Save the best model\n",
    "        count = 0  # Reset patience counter\n",
    "    else:\n",
    "        count += 1\n",
    "        print(f\"Early stopping patience: {count}/{patience}\")\n",
    "        if count >= patience:\n",
    "            print(\"Early stopping triggered.\")\n",
    "            break"
   ]
  },
  {
   "cell_type": "code",
   "execution_count": 18,
   "metadata": {},
   "outputs": [
    {
     "name": "stderr",
     "output_type": "stream",
     "text": [
      "100%|██████████| 7/7 [00:06<00:00,  1.14it/s]"
     ]
    },
    {
     "name": "stdout",
     "output_type": "stream",
     "text": [
      "Test Loss: 0.6265019689287458 Test Acc: 0.7589285714285714\n"
     ]
    },
    {
     "name": "stderr",
     "output_type": "stream",
     "text": [
      "\n"
     ]
    }
   ],
   "source": [
    "test_loss, test_acc = 0, 0\n",
    "best_model.eval()\n",
    "for tokens, label in tqdm(test_loader):\n",
    "    inputs = {\n",
    "                    'input_ids': tokens['input_ids'].squeeze(1),\n",
    "                    'token_type_ids' : tokens['token_type_ids'].squeeze(1),\n",
    "                    'attention_mask' : tokens['attention_mask'].squeeze(1)\n",
    "            }\n",
    "    target = label.to(device='cuda')\n",
    "\n",
    "\n",
    "    with torch.no_grad():\n",
    "            op = best_model(inputs)\n",
    "            loss = criterion(op, target)\n",
    "            acc = accuracy_score(\n",
    "                    torch.argmax(op, dim=1).detach().cpu().numpy(), \n",
    "                    torch.argmax(target, dim=1).detach().cpu().numpy()\n",
    "            )\n",
    "            \n",
    "    test_loss += loss.item()\n",
    "    test_acc += acc\n",
    "\n",
    "print(f'Test Loss: {test_loss/len(test_loader)} Test Acc: {test_acc/len(test_loader)}')"
   ]
  },
  {
   "cell_type": "code",
   "execution_count": 20,
   "metadata": {},
   "outputs": [
    {
     "data": {
      "text/plain": [
       "<matplotlib.legend.Legend at 0x27e6730d1b0>"
      ]
     },
     "execution_count": 20,
     "metadata": {},
     "output_type": "execute_result"
    },
    {
     "data": {
      "image/png": "[encoded data removed]",
      "text/plain": [
       "<Figure size 1000x1000 with 2 Axes>"
      ]
     },
     "metadata": {},
     "output_type": "display_data"
    }
   ],
   "source": [
    "import matplotlib.pyplot as plt\n",
    "\n",
    "fig, ax = plt.subplots(2, 1, figsize=(10, 10))\n",
    "ax[0].plot([i+1 for i in range(0, 11)], TRAIN_LOSS, label = 'train')\n",
    "ax[0].plot([i+1 for i in range(0, 11)], VAL_LOSS, label='valid')\n",
    "ax[0].set_title('Loss Curve')\n",
    "ax[0].legend()\n",
    "\n",
    "\n",
    "ax[1].plot([i+1 for i in range(0, 11)], TRAIN_ACC, label = 'train')\n",
    "ax[1].plot([i+1 for i in range(0, 11)], VAL_ACC, label='valid')\n",
    "ax[1].set_title('Accuracy Curve')\n",
    "ax[1].legend()\n"
   ]
  },
  {
   "cell_type": "code",
   "execution_count": 21,
   "metadata": {},
   "outputs": [
    {
     "name": "stdout",
     "output_type": "stream",
     "text": [
      "Model state dictionary saved to 'model.pth'\n"
     ]
    }
   ],
   "source": [
    "torch.save(best_model.state_dict(), \"bert_uncased.pth\")\n",
    "print(\"Model state dictionary saved to 'model.pth'\")\n"
   ]
  },
  {
   "cell_type": "markdown",
   "metadata": {},
   "source": [
    "## Ending notes:\n",
    "The not so cool part ends here. Whats next? This model isn't as great and has too many trainable paramaters which is not quite desireable when working with larger models (>2GB).\n",
    "\n",
    "The fun task next, is to create a Lora on top of this. Since the problem is too many training paramaters, slower inference time and slower convergence. We will use the saved not so good model from this notebook and create a LORA adapter for the same task."
   ]
  }
 ],
 "metadata": {
  "kernelspec": {
   "display_name": ".env",
   "language": "python",
   "name": "python3"
  },
  "language_info": {
   "codemirror_mode": {
    "name": "ipython",
    "version": 3
   },
   "file_extension": ".py",
   "mimetype": "text/x-python",
   "name": "python",
   "nbconvert_exporter": "python",
   "pygments_lexer": "ipython3",
   "version": "3.10.11"
  }
 },
 "nbformat": 4,
 "nbformat_minor": 2
}
