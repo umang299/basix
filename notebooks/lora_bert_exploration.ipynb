{
 "cells": [
  {
   "cell_type": "code",
   "execution_count": 1,
   "metadata": {},
   "outputs": [],
   "source": [
    "import os\n",
    "import torch\n",
    "import bitsandbytes as bnb\n",
    "# from transformers import AutoTokenizer, AutoModelForCausalLM, BitsAndBytesConfig\n",
    "from transformers import BertTokenizer, BertModel"
   ]
  },
  {
   "cell_type": "code",
   "execution_count": 2,
   "metadata": {},
   "outputs": [],
   "source": [
    "tokenizer_config = {\n",
    "    'pretrained_model_name_or_path' : r'C:\\experiments\\bert_tokenizer',\n",
    "}"
   ]
  },
  {
   "cell_type": "markdown",
   "metadata": {},
   "source": [
    "***2 Cents on BERT Tokenizer***\n",
    "- Bert has the following special tokens:\n",
    "1. `[SEP]`: Placed at the end of each sentence or sequence. Usefull in Next Sequence Prediction Tasks\n",
    "2. `[CLS]`: Placed at the beginning of the text. Lets the model know about the beginning of the sentence/sequence.\n",
    "\n",
    "**BERT DOES NOT HAVE `BOS` OR `EOS` TOKENS** "
   ]
  },
  {
   "cell_type": "code",
   "execution_count": 3,
   "metadata": {},
   "outputs": [],
   "source": [
    "import random\n",
    "from torch.utils.data import Dataset, DataLoader\n",
    "\n",
    "random.seed(42)\n",
    "\n",
    "class ReviewDataset(Dataset):\n",
    "    def __init__(self, dir_path, split, tokenizer_config, val=False):\n",
    "        super().__init__()\n",
    "        self.review_tags = ['pos', 'neg']\n",
    "        self.pos_review_dir = os.path.join(dir_path, split, 'pos')\n",
    "        self.neg_review_dir = os.path.join(dir_path, split, 'neg')\n",
    "        \n",
    "        if split == 'train':\n",
    "            if not val:\n",
    "                self.pos_label = [self.review_tags[0] for i in os.listdir(self.pos_review_dir)][:200]\n",
    "                self.neg_label = [self.review_tags[1] for i in os.listdir(self.neg_review_dir)][:200]\n",
    "\n",
    "                self.reviews = [i for i in os.listdir(self.pos_review_dir)][:200] + [i for i in os.listdir(self.neg_review_dir)][:200]\n",
    "            else:\n",
    "                self.pos_label = [self.review_tags[0] for i in os.listdir(self.pos_review_dir)][200:250]\n",
    "                self.neg_label = [self.review_tags[1] for i in os.listdir(self.neg_review_dir)][200:250]\n",
    "\n",
    "                self.reviews = [i for i in os.listdir(self.pos_review_dir)][200:250] + [i for i in os.listdir(self.neg_review_dir)][200:250]\n",
    "        else:\n",
    "            self.pos_label = [self.review_tags[0] for i in os.listdir(self.pos_review_dir)][:50]\n",
    "            self.neg_label = [self.review_tags[1] for i in os.listdir(self.neg_review_dir)][:50]\n",
    "\n",
    "            self.reviews = [i for i in os.listdir(self.pos_review_dir)][:50] + [i for i in os.listdir(self.neg_review_dir)][:50] \n",
    "            \n",
    "        self.label = self.pos_label + self.neg_label\n",
    "        self.data = [{self.reviews[i] : self.label[i]} for i in range(0, len(self.label))]\n",
    "        self.tokenizer = BertTokenizer.from_pretrained(**tokenizer_config)\n",
    "        self.sep_token = self.tokenizer.sep_token\n",
    "        random.shuffle(self.data)\n",
    "\n",
    "    def __len__(self):\n",
    "        return len(self.data)\n",
    "    \n",
    "    def __getitem__(self, index):\n",
    "        sample = self.data[index]\n",
    "        filename, label = list(sample.items())[0]\n",
    "        if label == 'pos':\n",
    "            file_path = os.path.join(self.pos_review_dir, filename)\n",
    "        else:\n",
    "            file_path = os.path.join(self.neg_review_dir, filename)\n",
    "        \n",
    "        with open(file_path, 'r', encoding='utf-8') as f:\n",
    "            text = f.read()\n",
    "\n",
    "\n",
    "        sentences = text.split('.')\n",
    "        sentences = [i.strip().lower() for i in sentences]\n",
    "        sentences = [i.replace('<br />', '') for i in sentences]\n",
    "        sentences = [f'{i} {self.sep_token}' for i in sentences if len(i) != 0]\n",
    "        text = \"\".join(sentences) + self.sep_token\n",
    "\n",
    "        tokens = self.tokenizer(text,\n",
    "                                max_length=128,\n",
    "                                truncation=True,\n",
    "                                padding='max_length',\n",
    "                                return_tensors='pt').to(device='cuda')\n",
    "        if label == 'pos':\n",
    "            return tokens, torch.tensor([1, 0], dtype=torch.float32)\n",
    "        else:\n",
    "            return tokens, torch.tensor([0, 1], dtype=torch.float32)"
   ]
  },
  {
   "cell_type": "code",
   "execution_count": 4,
   "metadata": {},
   "outputs": [],
   "source": [
    "class BertClassifier(torch.nn.Module):\n",
    "    def __init__(self, num_classes, model_config):\n",
    "        super().__init__()\n",
    "        self.num_classes = num_classes\n",
    "        self.model = BertModel.from_pretrained(**model_config)\n",
    "        self.classifier = torch.nn.Linear(in_features=768, out_features=num_classes, bias=True)\n",
    "        self.dropout = torch.nn.Dropout(p=0.7, inplace=True)\n",
    "        self.softmax = torch.nn.Softmax(dim=1)\n",
    "    \n",
    "    def forward(self, x):\n",
    "        op1 = self.model(**x)\n",
    "        op2 = self.classifier(op1.pooler_output)\n",
    "        op3 = self.dropout(op2)\n",
    "        op4 = self.softmax(op3)\n",
    "        return op4"
   ]
  },
  {
   "cell_type": "code",
   "execution_count": 5,
   "metadata": {},
   "outputs": [],
   "source": [
    "model_config = {'pretrained_model_name_or_path' : r'C:\\experiments\\bert_base_uncased'}\n",
    "model = BertClassifier(num_classes=2, model_config=model_config).to(device='cuda')"
   ]
  },
  {
   "cell_type": "code",
   "execution_count": 6,
   "metadata": {},
   "outputs": [
    {
     "name": "stdout",
     "output_type": "stream",
     "text": [
      "Number of reviews in training : 400\n",
      "Number of reviews in validaton: 100\n",
      "Number of reviews in test : 100\n"
     ]
    }
   ],
   "source": [
    "train_dataset = ReviewDataset(\n",
    "                    dir_path=r'C:\\experiments\\notebooks\\data\\reviews\\aclImdb',\n",
    "                    split='train',\n",
    "                    tokenizer_config=tokenizer_config\n",
    ")\n",
    "\n",
    "val_dataset = ReviewDataset(\n",
    "                    dir_path=r'C:\\experiments\\notebooks\\data\\reviews\\aclImdb',\n",
    "                    split='train',\n",
    "                    tokenizer_config=tokenizer_config,\n",
    "                    val=True\n",
    ")\n",
    "\n",
    "\n",
    "test_dataset = ReviewDataset(\n",
    "                    dir_path=r'C:\\experiments\\notebooks\\data\\reviews\\aclImdb',\n",
    "                    split='test',\n",
    "                    tokenizer_config=tokenizer_config\n",
    ")\n",
    "\n",
    "print(f'Number of reviews in training : {train_dataset.__len__()}')\n",
    "print(f'Number of reviews in validaton: {val_dataset.__len__()}')\n",
    "print(f'Number of reviews in test : {test_dataset.__len__()}')\n"
   ]
  },
  {
   "cell_type": "code",
   "execution_count": 7,
   "metadata": {},
   "outputs": [],
   "source": [
    "train_loader = DataLoader(\n",
    "                    dataset=train_dataset,\n",
    "                    batch_size=16,\n",
    "                    shuffle=True)\n",
    "\n",
    "val_loader = DataLoader(\n",
    "                    dataset=val_dataset,\n",
    "                    batch_size=16,\n",
    "                    shuffle=True)\n",
    "\n",
    "test_loader = DataLoader(\n",
    "                    dataset=test_dataset,\n",
    "                    batch_size=16,\n",
    "                    shuffle=True)"
   ]
  },
  {
   "cell_type": "code",
   "execution_count": 8,
   "metadata": {},
   "outputs": [],
   "source": [
    "optimizer = torch.optim.Adam(params=model.parameters(), lr=3e-5)\n",
    "criterion = torch.nn.BCEWithLogitsLoss()"
   ]
  },
  {
   "cell_type": "code",
   "execution_count": 9,
   "metadata": {},
   "outputs": [],
   "source": [
    "EPOCHS = 10"
   ]
  },
  {
   "cell_type": "code",
   "execution_count": 10,
   "metadata": {},
   "outputs": [
    {
     "name": "stderr",
     "output_type": "stream",
     "text": [
      "100%|██████████| 25/25 [00:09<00:00,  2.75it/s]\n",
      "100%|██████████| 7/7 [00:01<00:00,  6.32it/s]\n"
     ]
    },
    {
     "name": "stdout",
     "output_type": "stream",
     "text": [
      "EPOCH: 0\n",
      "Train Loss: 0.7224698233604431 Train Acc: 0.515\n",
      "Val Loss: 0.7210454089300973 Train Acc: 0.5535714285714286\n"
     ]
    },
    {
     "name": "stderr",
     "output_type": "stream",
     "text": [
      "100%|██████████| 25/25 [00:08<00:00,  2.83it/s]\n",
      "100%|██████████| 7/7 [00:01<00:00,  6.38it/s]\n"
     ]
    },
    {
     "name": "stdout",
     "output_type": "stream",
     "text": [
      "EPOCH: 1\n",
      "Train Loss: 0.704135160446167 Train Acc: 0.595\n",
      "Val Loss: 0.6820815205574036 Train Acc: 0.6607142857142857\n"
     ]
    },
    {
     "name": "stderr",
     "output_type": "stream",
     "text": [
      "100%|██████████| 25/25 [00:08<00:00,  2.82it/s]\n",
      "100%|██████████| 7/7 [00:01<00:00,  6.35it/s]\n"
     ]
    },
    {
     "name": "stdout",
     "output_type": "stream",
     "text": [
      "EPOCH: 2\n",
      "Train Loss: 0.6518265056610107 Train Acc: 0.6925\n",
      "Val Loss: 0.6517179438046047 Train Acc: 0.7321428571428571\n"
     ]
    },
    {
     "name": "stderr",
     "output_type": "stream",
     "text": [
      "100%|██████████| 25/25 [00:08<00:00,  2.83it/s]\n",
      "100%|██████████| 7/7 [00:01<00:00,  6.25it/s]\n"
     ]
    },
    {
     "name": "stdout",
     "output_type": "stream",
     "text": [
      "EPOCH: 3\n",
      "Train Loss: 0.6521039271354675 Train Acc: 0.6925\n",
      "Val Loss: 0.6386903694697789 Train Acc: 0.7410714285714286\n"
     ]
    },
    {
     "name": "stderr",
     "output_type": "stream",
     "text": [
      "100%|██████████| 25/25 [00:08<00:00,  2.82it/s]\n",
      "100%|██████████| 7/7 [00:01<00:00,  6.26it/s]\n"
     ]
    },
    {
     "name": "stdout",
     "output_type": "stream",
     "text": [
      "EPOCH: 4\n",
      "Train Loss: 0.6329108858108521 Train Acc: 0.7275\n",
      "Val Loss: 0.6892247029713222 Train Acc: 0.5982142857142857\n"
     ]
    },
    {
     "name": "stderr",
     "output_type": "stream",
     "text": [
      "100%|██████████| 25/25 [00:08<00:00,  2.82it/s]\n",
      "100%|██████████| 7/7 [00:01<00:00,  6.24it/s]\n"
     ]
    },
    {
     "name": "stdout",
     "output_type": "stream",
     "text": [
      "EPOCH: 5\n",
      "Train Loss: 0.6356300973892212 Train Acc: 0.7125\n",
      "Val Loss: 0.6353660225868225 Train Acc: 0.7589285714285714\n"
     ]
    },
    {
     "name": "stderr",
     "output_type": "stream",
     "text": [
      "100%|██████████| 25/25 [00:08<00:00,  2.81it/s]\n",
      "100%|██████████| 7/7 [00:01<00:00,  6.32it/s]\n"
     ]
    },
    {
     "name": "stdout",
     "output_type": "stream",
     "text": [
      "EPOCH: 6\n",
      "Train Loss: 0.621856529712677 Train Acc: 0.7375\n",
      "Val Loss: 0.6487325344766889 Train Acc: 0.6964285714285714\n"
     ]
    },
    {
     "name": "stderr",
     "output_type": "stream",
     "text": [
      "100%|██████████| 25/25 [00:08<00:00,  2.82it/s]\n",
      "100%|██████████| 7/7 [00:01<00:00,  6.26it/s]\n"
     ]
    },
    {
     "name": "stdout",
     "output_type": "stream",
     "text": [
      "EPOCH: 7\n",
      "Train Loss: 0.6272009348869324 Train Acc: 0.7075\n",
      "Val Loss: 0.6513217432158334 Train Acc: 0.6696428571428571\n"
     ]
    },
    {
     "name": "stderr",
     "output_type": "stream",
     "text": [
      "100%|██████████| 25/25 [00:08<00:00,  2.82it/s]\n",
      "100%|██████████| 7/7 [00:01<00:00,  6.23it/s]\n"
     ]
    },
    {
     "name": "stdout",
     "output_type": "stream",
     "text": [
      "EPOCH: 8\n",
      "Train Loss: 0.6201419234275818 Train Acc: 0.7375\n",
      "Val Loss: 0.6015325954982212 Train Acc: 0.8303571428571429\n"
     ]
    },
    {
     "name": "stderr",
     "output_type": "stream",
     "text": [
      "100%|██████████| 25/25 [00:08<00:00,  2.82it/s]\n",
      "100%|██████████| 7/7 [00:01<00:00,  6.27it/s]"
     ]
    },
    {
     "name": "stdout",
     "output_type": "stream",
     "text": [
      "EPOCH: 9\n",
      "Train Loss: 0.6147752404212952 Train Acc: 0.7325\n",
      "Val Loss: 0.5897788660866874 Train Acc: 0.8392857142857143\n"
     ]
    },
    {
     "name": "stderr",
     "output_type": "stream",
     "text": [
      "\n"
     ]
    }
   ],
   "source": [
    "from tqdm import tqdm\n",
    "from sklearn.metrics import accuracy_score\n",
    "\n",
    "TRAIN_LOSS, VAL_LOSS = list(), list()\n",
    "TRAIN_ACC, VAL_ACC = list(), list()\n",
    "for i in range(0, EPOCHS):\n",
    "        train_loss, train_acc = 0, 0\n",
    "        model.train()\n",
    "        for tokens, label in tqdm(train_loader):\n",
    "                inputs = {\n",
    "                                'input_ids': tokens['input_ids'].squeeze(1),\n",
    "                                'token_type_ids' : tokens['token_type_ids'].squeeze(1),\n",
    "                                'attention_mask' : tokens['attention_mask'].squeeze(1)\n",
    "                        }\n",
    "                target = label.to(device='cuda')\n",
    "\n",
    "                optimizer.zero_grad()\n",
    "                op = model(inputs)\n",
    "                loss = criterion(op, target)\n",
    "                acc = accuracy_score(\n",
    "                                torch.argmax(op, dim=1).detach().cpu().numpy(), \n",
    "                                torch.argmax(target, dim=1).detach().cpu().numpy()\n",
    "                        )\n",
    "                train_loss += loss.item()\n",
    "                train_acc += acc\n",
    "                loss.backward()\n",
    "                optimizer.step()\n",
    "        \n",
    "\n",
    "        model.eval()\n",
    "        val_loss, val_acc = 0, 0\n",
    "        for tokens, label in tqdm(val_loader):\n",
    "                inputs = {\n",
    "                                'input_ids': tokens['input_ids'].squeeze(1),\n",
    "                                'token_type_ids' : tokens['token_type_ids'].squeeze(1),\n",
    "                                'attention_mask' : tokens['attention_mask'].squeeze(1)\n",
    "                        }\n",
    "                target = label.to(device='cuda')\n",
    "\n",
    "                with torch.no_grad():\n",
    "                        op = model(inputs)\n",
    "                        loss = criterion(op, target)\n",
    "                        acc = accuracy_score(\n",
    "                                torch.argmax(op, dim=1).detach().cpu().numpy(), \n",
    "                                torch.argmax(target, dim=1).detach().cpu().numpy()\n",
    "                        )\n",
    "                        \n",
    "                val_loss += loss.item()\n",
    "                val_acc += acc\n",
    "\n",
    "\n",
    "        print(f'EPOCH: {i}\\nTrain Loss: {train_loss/len(train_loader)} Train Acc: {train_acc/len(train_loader)}')\n",
    "        print(f'Val Loss: {val_loss/len(val_loader)} Train Acc: {val_acc/len(val_loader)}')\n",
    "        \n",
    "        TRAIN_LOSS.append(train_loss/len(train_loader))\n",
    "        VAL_LOSS.append(val_loss/len(val_loader))\n",
    "\n",
    "        TRAIN_ACC.append(train_acc/len(train_loader))\n",
    "        VAL_ACC.append(val_acc/len(val_loader))\n",
    "                "
   ]
  },
  {
   "cell_type": "code",
   "execution_count": 12,
   "metadata": {},
   "outputs": [
    {
     "name": "stderr",
     "output_type": "stream",
     "text": [
      "100%|██████████| 7/7 [00:01<00:00,  5.97it/s]"
     ]
    },
    {
     "name": "stdout",
     "output_type": "stream",
     "text": [
      "Test Loss: 0.5800503151757377 Test Acc: 0.8392857142857143\n"
     ]
    },
    {
     "name": "stderr",
     "output_type": "stream",
     "text": [
      "\n"
     ]
    }
   ],
   "source": [
    "test_loss, test_acc = 0, 0\n",
    "for tokens, label in tqdm(test_loader):\n",
    "    inputs = {\n",
    "                    'input_ids': tokens['input_ids'].squeeze(1),\n",
    "                    'token_type_ids' : tokens['token_type_ids'].squeeze(1),\n",
    "                    'attention_mask' : tokens['attention_mask'].squeeze(1)\n",
    "            }\n",
    "    target = label.to(device='cuda')\n",
    "\n",
    "    with torch.no_grad():\n",
    "            op = model(inputs)\n",
    "            loss = criterion(op, target)\n",
    "            acc = accuracy_score(\n",
    "                    torch.argmax(op, dim=1).detach().cpu().numpy(), \n",
    "                    torch.argmax(target, dim=1).detach().cpu().numpy()\n",
    "            )\n",
    "            \n",
    "    test_loss += loss.item()\n",
    "    test_acc += acc\n",
    "\n",
    "print(f'Test Loss: {test_loss/len(test_loader)} Test Acc: {test_acc/len(test_loader)}')"
   ]
  },
  {
   "cell_type": "code",
   "execution_count": 20,
   "metadata": {},
   "outputs": [
    {
     "data": {
      "text/plain": [
       "<matplotlib.legend.Legend at 0x298dcfaeb00>"
      ]
     },
     "execution_count": 20,
     "metadata": {},
     "output_type": "execute_result"
    },
    {
     "data": {
      "image/png": "[encoded data removed]",
      "text/plain": [
       "<Figure size 1000x1000 with 2 Axes>"
      ]
     },
     "metadata": {},
     "output_type": "display_data"
    }
   ],
   "source": [
    "import matplotlib.pyplot as plt\n",
    "\n",
    "fig, ax = plt.subplots(2, 1, figsize=(10, 10))\n",
    "ax[0].plot([i+1 for i in range(0, EPOCHS)], TRAIN_LOSS, label = 'train')\n",
    "ax[0].plot([i+1 for i in range(0, EPOCHS)], VAL_LOSS, label='valid')\n",
    "ax[0].set_title('Loss Curve')\n",
    "ax[0].legend()\n",
    "\n",
    "\n",
    "ax[1].plot([i+1 for i in range(0, EPOCHS)], TRAIN_ACC, label = 'train')\n",
    "ax[1].plot([i+1 for i in range(0, EPOCHS)], VAL_ACC, label='valid')\n",
    "ax[1].set_title('Accuracy Curve')\n",
    "ax[1].legend()\n"
   ]
  },
  {
   "cell_type": "code",
   "execution_count": null,
   "metadata": {},
   "outputs": [],
   "source": []
  },
  {
   "cell_type": "code",
   "execution_count": null,
   "metadata": {},
   "outputs": [],
   "source": []
  }
 ],
 "metadata": {
  "kernelspec": {
   "display_name": ".env",
   "language": "python",
   "name": "python3"
  },
  "language_info": {
   "codemirror_mode": {
    "name": "ipython",
    "version": 3
   },
   "file_extension": ".py",
   "mimetype": "text/x-python",
   "name": "python",
   "nbconvert_exporter": "python",
   "pygments_lexer": "ipython3",
   "version": "3.10.11"
  }
 },
 "nbformat": 4,
 "nbformat_minor": 2
}
